{
 "metadata": {
  "language_info": {
   "codemirror_mode": {
    "name": "ipython",
    "version": 3
   },
   "file_extension": ".py",
   "mimetype": "text/x-python",
   "name": "python",
   "nbconvert_exporter": "python",
   "pygments_lexer": "ipython3",
   "version": "3.7.6-final"
  },
  "orig_nbformat": 2,
  "kernelspec": {
   "name": "python3",
   "display_name": "Python 3.7.6 64-bit (conda)",
   "metadata": {
    "interpreter": {
     "hash": "b3ba2566441a7c06988d0923437866b63cedc61552a5af99d1f4fb67d367b25f"
    }
   }
  }
 },
 "nbformat": 4,
 "nbformat_minor": 2,
 "cells": [
  {
   "cell_type": "code",
   "execution_count": null,
   "metadata": {},
   "outputs": [],
   "source": [
    "import keras\n",
    "keras.__version__"
   ]
  },
  {
   "cell_type": "code",
   "execution_count": null,
   "metadata": {},
   "outputs": [],
   "source": [
    "from keras.models import load_model\n",
    "\n",
    "model = load_model('poetry_model.hdf5')"
   ]
  },
  {
   "cell_type": "code",
   "execution_count": null,
   "metadata": {},
   "outputs": [],
   "source": [
    "# 诗data的地址\n",
    "poetry_data_path = \"./data/poetry.txt\"\n",
    "# 如果诗词中出现这些词，则将诗舍弃\n",
    "DISALLOWED_WORDS = ['（', '）', '(', ')', '__', '《', '》', '【', '】', '[', ']']\n",
    "# 取3000个字作诗,其中包括空格字符\n",
    "WORD_NUM = 3000\n",
    "# 将出现少的字使用空格代替\n",
    "UNKONW_CHAR = \" \"\n",
    "# 根据前6个字预测下一个字，比如说根据“寒随穷律变，”预测“春”\n",
    "TRAIN_NUM = 6"
   ]
  },
  {
   "cell_type": "code",
   "execution_count": null,
   "metadata": {},
   "outputs": [],
   "source": [
    "# 保存诗词\n",
    "poetrys = []\n",
    "# 保存在诗词中出现的字\n",
    "all_word = []\n",
    "\n",
    "with open(poetry_data_path,encoding=\"utf-8\") as f:\n",
    "    for line in f:\n",
    "        # 获得诗的内容\n",
    "        poetry = line.split(\":\")[1].replace(\" \",\"\")\n",
    "        flag = True\n",
    "        # 如果在句子中出现'（', '）', '(', ')', '__', '《', '》', '【', '】', '[', ']'则舍弃\n",
    "        for dis_word in DISALLOWED_WORDS:\n",
    "            if dis_word in poetry:\n",
    "                flag = False\n",
    "                break\n",
    "\n",
    "        # 只需要5言的诗（两句诗包括标点符号就是12个字），假如少于两句诗则舍弃\n",
    "        if  len(poetry) < 12 or poetry[5] != '，' or (len(poetry)-1) % 6 != 0:\n",
    "            flag = False\n",
    "\n",
    "        if flag:\n",
    "            # 统计出现的词\n",
    "            for word in poetry:\n",
    "                all_word.append(word)\n",
    "            poetrys.append(poetry)"
   ]
  },
  {
   "cell_type": "code",
   "execution_count": null,
   "metadata": {},
   "outputs": [],
   "source": [
    "from collections import Counter\n",
    "# 对字数进行统计\n",
    "counter = Counter(all_word)\n",
    "# 根据出现的次数，进行从大到小的排序\n",
    "word_count = sorted(counter.items(),key=lambda x : -x[1])\n",
    "most_num_word,_ = zip(*word_count)\n",
    "# 取前2999个字，然后在最后加上\" \"\n",
    "use_words = most_num_word[:WORD_NUM - 1] + (UNKONW_CHAR,)"
   ]
  },
  {
   "cell_type": "code",
   "execution_count": null,
   "metadata": {},
   "outputs": [],
   "source": [
    "# word 到 id的映射 {'，': 0,'。': 1,'\\n': 2,'不': 3,'人': 4,'山': 5,……}\n",
    "word_id_dict = {word:index for index,word in enumerate(use_words)}\n",
    "\n",
    "# id 到 word的映射 {0: '，',1: '。',2: '\\n',3: '不',4: '人',5: '山',……}\n",
    "id_word_dict = {index:word for index,word in enumerate(use_words)}"
   ]
  },
  {
   "cell_type": "code",
   "execution_count": null,
   "metadata": {},
   "outputs": [],
   "source": [
    "import numpy as np\n",
    "def word_to_one_hot(word):\n",
    "    \"\"\"将一个字转成onehot形式\n",
    "\n",
    "    :param word: [一个字]\n",
    "    :type word: [str]\n",
    "    \"\"\"\n",
    "    one_hot_word = np.zeros(WORD_NUM)\n",
    "    # 假如字是生僻字，则变成空格\n",
    "    if word not in word_id_dict.keys():\n",
    "        word = UNKONW_CHAR\n",
    "    index = word_id_dict[word]\n",
    "    one_hot_word[index] = 1\n",
    "    return one_hot_word\n",
    "\n",
    "def phrase_to_one_hot(phrase):\n",
    "    \"\"\"将一个句子转成onehot\n",
    "\n",
    "    :param phrase: [一个句子]\n",
    "    :type poetry: [str]\n",
    "    \"\"\"\n",
    "    one_hot_phrase = []\n",
    "    for word in phrase:\n",
    "        one_hot_phrase.append(word_to_one_hot(word))\n",
    "    return one_hot_phrase"
   ]
  },
  {
   "cell_type": "code",
   "execution_count": null,
   "metadata": {},
   "outputs": [],
   "source": [
    "import numpy as np\n",
    "def predict_next(x):\n",
    "\n",
    "    predict_y = model.predict(x)[0]\n",
    "    # 获得最大概率的索引\n",
    "    index = np.argmax(predict_y)\n",
    "    if(index == 2999):\n",
    "       predict_y = np.delete(predict_y, index)\n",
    "       index = np.argmax(predict_y)\n",
    "    return index\n",
    "\n",
    "def generate_sample_result(predict_sen):\n",
    "    predict_data = predict_sen\n",
    "    # 生成的4句五言诗（4 * 6 = 24）\n",
    "    while len(predict_sen) < 24:\n",
    "        X_data = np.array(phrase_to_one_hot(predict_data)).reshape(1,TRAIN_NUM,WORD_NUM)\n",
    "        # 根据6个字符预测下一个字符\n",
    "        y = predict_next(X_data)\n",
    "        predict_sen = predict_sen+ id_word_dict[y]\n",
    "        # “寒随穷律变，” ——> “随穷律变，春”\n",
    "        predict_data = predict_data[1:]+id_word_dict[y]\n",
    "    print(predict_sen)"
   ]
  },
  {
   "cell_type": "code",
   "execution_count": null,
   "metadata": {},
   "outputs": [],
   "source": [
    "x = input()\n",
    "generate_sample_result(x)"
   ]
  }
 ]
}